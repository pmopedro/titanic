{
 "cells": [
  {
   "attachments": {},
   "cell_type": "markdown",
   "metadata": {},
   "source": [
    "# TITANIC \n",
    "\n",
    "This is the analysis and models I developed for a  kaggle competition hosted at https://www.kaggle.com/c/titanic/data. This competition has as the main objective to predict which passengers survived titanic sink by their data. \n",
    "Kaggle disposes two datasets one for model training, with labels for died and survived, and one for evaluation at the platform, without any label. \n",
    "The given data for solve this problem are: "
   ]
  },
  {
   "cell_type": "code",
   "execution_count": null,
   "metadata": {
    "scrolled": true
   },
   "outputs": [],
   "source": [
    "from IPython.display import Image\n",
    "Image(filename='cap.png')"
   ]
  },
  {
   "cell_type": "markdown",
   "metadata": {},
   "source": [
    "## Exploratory Analysis"
   ]
  },
  {
   "cell_type": "code",
   "execution_count": 1,
   "metadata": {},
   "outputs": [
    {
     "name": "stderr",
     "output_type": "stream",
     "text": [
      "/home/pedro/snap/jupyter/common/lib/python3.7/site-packages/joblib/_multiprocessing_helpers.py:45: UserWarning: [Errno 13] Permission denied.  joblib will operate in serial mode\n",
      "  warnings.warn('%s.  joblib will operate in serial mode' % (e,))\n"
     ]
    }
   ],
   "source": [
    "#Let's import everything we need, and set max columns and rows for none \n",
    "import pandas as pd\n",
    "import matplotlib.pyplot as plt\n",
    "import seaborn as sn\n",
    "import scipy.stats as stats\n",
    "import numpy as np\n",
    "import re\n",
    "from sklearn.preprocessing import StandardScaler\n",
    "from sklearn.linear_model import LogisticRegression \n",
    "from sklearn.model_selection import train_test_split\n",
    "from sklearn.linear_model import LogisticRegression \n",
    "from sklearn.feature_selection import RFECV\n",
    "from mlxtend.feature_selection import ExhaustiveFeatureSelector as EFS  \n",
    "from sklearn.model_selection import LeaveOneOut\n",
    "from sklearn.metrics import confusion_matrix\n",
    "from sklearn.metrics import roc_auc_score\n",
    "from sklearn.metrics import roc_curve\n",
    "\n",
    "pd.set_option('display.max_columns', None)\n",
    "pd.set_option('display.max_rows', None)"
   ]
  },
  {
   "cell_type": "code",
   "execution_count": 2,
   "metadata": {
    "scrolled": true
   },
   "outputs": [
    {
     "name": "stdout",
     "output_type": "stream",
     "text": [
      "Train shape: (891, 12) \n",
      " Test shape (418, 11)\n"
     ]
    },
    {
     "data": {
      "text/html": [
       "<div>\n",
       "<style scoped>\n",
       "    .dataframe tbody tr th:only-of-type {\n",
       "        vertical-align: middle;\n",
       "    }\n",
       "\n",
       "    .dataframe tbody tr th {\n",
       "        vertical-align: top;\n",
       "    }\n",
       "\n",
       "    .dataframe thead th {\n",
       "        text-align: right;\n",
       "    }\n",
       "</style>\n",
       "<table border=\"1\" class=\"dataframe\">\n",
       "  <thead>\n",
       "    <tr style=\"text-align: right;\">\n",
       "      <th></th>\n",
       "      <th>PassengerId</th>\n",
       "      <th>Survived</th>\n",
       "      <th>Pclass</th>\n",
       "      <th>Name</th>\n",
       "      <th>Sex</th>\n",
       "      <th>Age</th>\n",
       "      <th>SibSp</th>\n",
       "      <th>Parch</th>\n",
       "      <th>Ticket</th>\n",
       "      <th>Fare</th>\n",
       "      <th>Cabin</th>\n",
       "      <th>Embarked</th>\n",
       "    </tr>\n",
       "  </thead>\n",
       "  <tbody>\n",
       "    <tr>\n",
       "      <th>0</th>\n",
       "      <td>1</td>\n",
       "      <td>0</td>\n",
       "      <td>3</td>\n",
       "      <td>Braund, Mr. Owen Harris</td>\n",
       "      <td>male</td>\n",
       "      <td>22.0</td>\n",
       "      <td>1</td>\n",
       "      <td>0</td>\n",
       "      <td>A/5 21171</td>\n",
       "      <td>7.2500</td>\n",
       "      <td>NaN</td>\n",
       "      <td>S</td>\n",
       "    </tr>\n",
       "    <tr>\n",
       "      <th>1</th>\n",
       "      <td>2</td>\n",
       "      <td>1</td>\n",
       "      <td>1</td>\n",
       "      <td>Cumings, Mrs. John Bradley (Florence Briggs Th...</td>\n",
       "      <td>female</td>\n",
       "      <td>38.0</td>\n",
       "      <td>1</td>\n",
       "      <td>0</td>\n",
       "      <td>PC 17599</td>\n",
       "      <td>71.2833</td>\n",
       "      <td>C85</td>\n",
       "      <td>C</td>\n",
       "    </tr>\n",
       "    <tr>\n",
       "      <th>2</th>\n",
       "      <td>3</td>\n",
       "      <td>1</td>\n",
       "      <td>3</td>\n",
       "      <td>Heikkinen, Miss. Laina</td>\n",
       "      <td>female</td>\n",
       "      <td>26.0</td>\n",
       "      <td>0</td>\n",
       "      <td>0</td>\n",
       "      <td>STON/O2. 3101282</td>\n",
       "      <td>7.9250</td>\n",
       "      <td>NaN</td>\n",
       "      <td>S</td>\n",
       "    </tr>\n",
       "    <tr>\n",
       "      <th>3</th>\n",
       "      <td>4</td>\n",
       "      <td>1</td>\n",
       "      <td>1</td>\n",
       "      <td>Futrelle, Mrs. Jacques Heath (Lily May Peel)</td>\n",
       "      <td>female</td>\n",
       "      <td>35.0</td>\n",
       "      <td>1</td>\n",
       "      <td>0</td>\n",
       "      <td>113803</td>\n",
       "      <td>53.1000</td>\n",
       "      <td>C123</td>\n",
       "      <td>S</td>\n",
       "    </tr>\n",
       "    <tr>\n",
       "      <th>4</th>\n",
       "      <td>5</td>\n",
       "      <td>0</td>\n",
       "      <td>3</td>\n",
       "      <td>Allen, Mr. William Henry</td>\n",
       "      <td>male</td>\n",
       "      <td>35.0</td>\n",
       "      <td>0</td>\n",
       "      <td>0</td>\n",
       "      <td>373450</td>\n",
       "      <td>8.0500</td>\n",
       "      <td>NaN</td>\n",
       "      <td>S</td>\n",
       "    </tr>\n",
       "  </tbody>\n",
       "</table>\n",
       "</div>"
      ],
      "text/plain": [
       "   PassengerId  Survived  Pclass  \\\n",
       "0            1         0       3   \n",
       "1            2         1       1   \n",
       "2            3         1       3   \n",
       "3            4         1       1   \n",
       "4            5         0       3   \n",
       "\n",
       "                                                Name     Sex   Age  SibSp  \\\n",
       "0                            Braund, Mr. Owen Harris    male  22.0      1   \n",
       "1  Cumings, Mrs. John Bradley (Florence Briggs Th...  female  38.0      1   \n",
       "2                             Heikkinen, Miss. Laina  female  26.0      0   \n",
       "3       Futrelle, Mrs. Jacques Heath (Lily May Peel)  female  35.0      1   \n",
       "4                           Allen, Mr. William Henry    male  35.0      0   \n",
       "\n",
       "   Parch            Ticket     Fare Cabin Embarked  \n",
       "0      0         A/5 21171   7.2500   NaN        S  \n",
       "1      0          PC 17599  71.2833   C85        C  \n",
       "2      0  STON/O2. 3101282   7.9250   NaN        S  \n",
       "3      0            113803  53.1000  C123        S  \n",
       "4      0            373450   8.0500   NaN        S  "
      ]
     },
     "execution_count": 2,
     "metadata": {},
     "output_type": "execute_result"
    }
   ],
   "source": [
    "#read our files nd take a look \n",
    "train = pd.read_csv('train.csv')\n",
    "test = pd.read_csv('test.csv')\n",
    "print('Train shape:',train.shape,'\\n','Test shape',test.shape)\n",
    "train.head()"
   ]
  },
  {
   "cell_type": "code",
   "execution_count": 3,
   "metadata": {},
   "outputs": [
    {
     "data": {
      "text/plain": [
       "PassengerId      0\n",
       "Survived         0\n",
       "Pclass           0\n",
       "Name             0\n",
       "Sex              0\n",
       "Age            177\n",
       "SibSp            0\n",
       "Parch            0\n",
       "Ticket           0\n",
       "Fare             0\n",
       "Cabin          687\n",
       "Embarked         2\n",
       "dtype: int64"
      ]
     },
     "execution_count": 3,
     "metadata": {},
     "output_type": "execute_result"
    }
   ],
   "source": [
    "train.isna().sum()"
   ]
  },
  {
   "cell_type": "code",
   "execution_count": 4,
   "metadata": {},
   "outputs": [],
   "source": [
    "train.Age = train.Age.fillna(train.Age.mean())"
   ]
  },
  {
   "cell_type": "markdown",
   "metadata": {},
   "source": [
    "As we can see our variables can be splited at these groups:  \n",
    "**Independent variables**\n",
    "* **Categorical** : Pclass(which class the passenger was), Embarked(where he/she boarded), Sex \n",
    "* **Quatitative** : Age, Fare(how much was the ticket), SibSp (number of siblings per suppose aboard), Parch  (number of children per parents aboard) \n",
    "* **'Tricky ones'**: Name, Ticket, Cabin (which cabin the passenger was)\n",
    "* **Key**: PassengerId <br>\n",
    "\n",
    "**Dependent variables**\n",
    "* **Categorical** : Survived (0 = No, 1 = Yes) <br>\n",
    "\n",
    "We can see here that our variables **Name**, **Ticket** and **Cabin** require some kind of feature engineering and our attention. But the rest seam to be OK.\n",
    "\n",
    "\n"
   ]
  },
  {
   "cell_type": "markdown",
   "metadata": {},
   "source": [
    "### Tricky Variables : Name, Ticket number, Cabin\n"
   ]
  },
  {
   "cell_type": "markdown",
   "metadata": {},
   "source": [
    "#### Tricky 1: Name\n",
    "Starting with **Name**, we can actually get the title from the person's name. For example: Braund, Mr. Owen Harris has a Mr. title. Then we can classify people by theirs titles and see if there's any relationship between them and the survivor rate "
   ]
  },
  {
   "cell_type": "code",
   "execution_count": 5,
   "metadata": {},
   "outputs": [
    {
     "data": {
      "text/plain": [
       "Mr              517\n",
       "Miss            182\n",
       "Mrs             125\n",
       "Master           40\n",
       "Dr                7\n",
       "Rev               6\n",
       "Mlle              2\n",
       "Col               2\n",
       "Major             2\n",
       "Jonkheer          1\n",
       "Ms                1\n",
       "Lady              1\n",
       "Don               1\n",
       "the Countess      1\n",
       "Sir               1\n",
       "Capt              1\n",
       "Mme               1\n",
       "Name: Name, dtype: int64"
      ]
     },
     "execution_count": 5,
     "metadata": {},
     "output_type": "execute_result"
    }
   ],
   "source": [
    "titles = train['Name'].str.extract(pat = '([,].{1,13}[.])') #select titles \n",
    "titles.rename(columns = {0:'Name'},inplace=True) # rename titles df \n",
    "titles = titles.Name.str.slice(start=2, stop=-1) # takes only the title \n",
    "titles.value_counts()"
   ]
  },
  {
   "cell_type": "markdown",
   "metadata": {},
   "source": [
    "We can see that there are a lot of diferent titles and only some of them seam to have a statistical significance, let's group them into only four groups: **Mr, Mrs, Miss & Master**. Most of the other titles seams to be a outliers and won't help us at our task. "
   ]
  },
  {
   "cell_type": "code",
   "execution_count": 6,
   "metadata": {
    "scrolled": true
   },
   "outputs": [
    {
     "data": {
      "text/html": [
       "<div>\n",
       "<style scoped>\n",
       "    .dataframe tbody tr th:only-of-type {\n",
       "        vertical-align: middle;\n",
       "    }\n",
       "\n",
       "    .dataframe tbody tr th {\n",
       "        vertical-align: top;\n",
       "    }\n",
       "\n",
       "    .dataframe thead th {\n",
       "        text-align: right;\n",
       "    }\n",
       "</style>\n",
       "<table border=\"1\" class=\"dataframe\">\n",
       "  <thead>\n",
       "    <tr style=\"text-align: right;\">\n",
       "      <th></th>\n",
       "      <th>PassengerId</th>\n",
       "      <th>Survived</th>\n",
       "      <th>Pclass</th>\n",
       "      <th>Age</th>\n",
       "      <th>SibSp</th>\n",
       "      <th>Parch</th>\n",
       "      <th>Fare</th>\n",
       "    </tr>\n",
       "    <tr>\n",
       "      <th>Title</th>\n",
       "      <th></th>\n",
       "      <th></th>\n",
       "      <th></th>\n",
       "      <th></th>\n",
       "      <th></th>\n",
       "      <th></th>\n",
       "      <th></th>\n",
       "    </tr>\n",
       "  </thead>\n",
       "  <tbody>\n",
       "    <tr>\n",
       "      <th>Master</th>\n",
       "      <td>414.975000</td>\n",
       "      <td>0.575000</td>\n",
       "      <td>2.625000</td>\n",
       "      <td>7.086662</td>\n",
       "      <td>2.300000</td>\n",
       "      <td>1.375000</td>\n",
       "      <td>34.703125</td>\n",
       "    </tr>\n",
       "    <tr>\n",
       "      <th>Miss</th>\n",
       "      <td>411.967568</td>\n",
       "      <td>0.702703</td>\n",
       "      <td>2.291892</td>\n",
       "      <td>23.373882</td>\n",
       "      <td>0.702703</td>\n",
       "      <td>0.540541</td>\n",
       "      <td>43.800092</td>\n",
       "    </tr>\n",
       "    <tr>\n",
       "      <th>Mr</th>\n",
       "      <td>457.697026</td>\n",
       "      <td>0.161710</td>\n",
       "      <td>2.369888</td>\n",
       "      <td>32.281402</td>\n",
       "      <td>0.289963</td>\n",
       "      <td>0.150558</td>\n",
       "      <td>24.842176</td>\n",
       "    </tr>\n",
       "    <tr>\n",
       "      <th>Mrs</th>\n",
       "      <td>455.718750</td>\n",
       "      <td>0.796875</td>\n",
       "      <td>1.976562</td>\n",
       "      <td>35.053789</td>\n",
       "      <td>0.687500</td>\n",
       "      <td>0.812500</td>\n",
       "      <td>45.607161</td>\n",
       "    </tr>\n",
       "  </tbody>\n",
       "</table>\n",
       "</div>"
      ],
      "text/plain": [
       "        PassengerId  Survived    Pclass        Age     SibSp     Parch  \\\n",
       "Title                                                                    \n",
       "Master   414.975000  0.575000  2.625000   7.086662  2.300000  1.375000   \n",
       "Miss     411.967568  0.702703  2.291892  23.373882  0.702703  0.540541   \n",
       "Mr       457.697026  0.161710  2.369888  32.281402  0.289963  0.150558   \n",
       "Mrs      455.718750  0.796875  1.976562  35.053789  0.687500  0.812500   \n",
       "\n",
       "             Fare  \n",
       "Title              \n",
       "Master  34.703125  \n",
       "Miss    43.800092  \n",
       "Mr      24.842176  \n",
       "Mrs     45.607161  "
      ]
     },
     "execution_count": 6,
     "metadata": {},
     "output_type": "execute_result"
    }
   ],
   "source": [
    "def replace_titles(x):\n",
    "    title=x['Title']\n",
    "    if title in ['Dr','Don', 'Major', 'Capt', 'Jonkheer', 'Rev', 'Col', 'Sir']: \n",
    "        return 'Mr' #These all titles can be grouped at title !\n",
    "    elif title in ['the Countess','Lady','Mme']: \n",
    "        return 'Mrs'# They are actually outliers\n",
    "    elif title in ['Mlle', 'Ms']:\n",
    "        return 'Miss' \n",
    "    else:\n",
    "        return title\n",
    "    \n",
    "train['Title']= titles\n",
    "train.Title = train.apply(replace_titles, axis=1)\n",
    "train.groupby(by = 'Title').mean()"
   ]
  },
  {
   "cell_type": "code",
   "execution_count": 7,
   "metadata": {},
   "outputs": [
    {
     "data": {
      "text/plain": [
       "Mr        538\n",
       "Miss      185\n",
       "Mrs       128\n",
       "Master     40\n",
       "Name: Title, dtype: int64"
      ]
     },
     "execution_count": 7,
     "metadata": {},
     "output_type": "execute_result"
    }
   ],
   "source": [
    "train.Title.value_counts()"
   ]
  },
  {
   "cell_type": "markdown",
   "metadata": {},
   "source": [
    "Take a look at survived mean by class title. You'll see that **Mr** are the class with lowest surviving rate. Then we see that Master have a 3.5x more chance to survive than man, and far less age. So we can infer Master was a title for young boys. <br>\n",
    "We can also see that the woman's chance to survive were much higher than the othes and the maried ones even better chance. It's very clear the **\"woman and children first!\"**, since their surviving rate were far higher than man. "
   ]
  },
  {
   "cell_type": "markdown",
   "metadata": {},
   "source": [
    "### Tricky n 2 : Cabin"
   ]
  },
  {
   "cell_type": "markdown",
   "metadata": {},
   "source": [
    "Cabin specifies where the passenger was staying. A lot of them were NaN values and it's hard to use any possible subgroups like floor since there are not enough of events inside of them. So I managed Cabin using the fact of the passenger has one or not (with for have cabin, and without for dose't have cabin)"
   ]
  },
  {
   "cell_type": "code",
   "execution_count": 8,
   "metadata": {
    "scrolled": true
   },
   "outputs": [
    {
     "data": {
      "text/html": [
       "<div>\n",
       "<style scoped>\n",
       "    .dataframe tbody tr th:only-of-type {\n",
       "        vertical-align: middle;\n",
       "    }\n",
       "\n",
       "    .dataframe tbody tr th {\n",
       "        vertical-align: top;\n",
       "    }\n",
       "\n",
       "    .dataframe thead th {\n",
       "        text-align: right;\n",
       "    }\n",
       "</style>\n",
       "<table border=\"1\" class=\"dataframe\">\n",
       "  <thead>\n",
       "    <tr style=\"text-align: right;\">\n",
       "      <th></th>\n",
       "      <th>PassengerId</th>\n",
       "      <th>Survived</th>\n",
       "      <th>Pclass</th>\n",
       "      <th>Name</th>\n",
       "      <th>Sex</th>\n",
       "      <th>Age</th>\n",
       "      <th>SibSp</th>\n",
       "      <th>Parch</th>\n",
       "      <th>Ticket</th>\n",
       "      <th>Fare</th>\n",
       "      <th>Cabin</th>\n",
       "      <th>Embarked</th>\n",
       "      <th>Title</th>\n",
       "      <th>Floor</th>\n",
       "    </tr>\n",
       "  </thead>\n",
       "  <tbody>\n",
       "    <tr>\n",
       "      <th>0</th>\n",
       "      <td>1</td>\n",
       "      <td>0</td>\n",
       "      <td>3</td>\n",
       "      <td>Braund, Mr. Owen Harris</td>\n",
       "      <td>male</td>\n",
       "      <td>22.0</td>\n",
       "      <td>1</td>\n",
       "      <td>0</td>\n",
       "      <td>A/5 21171</td>\n",
       "      <td>7.2500</td>\n",
       "      <td>Without</td>\n",
       "      <td>S</td>\n",
       "      <td>Mr</td>\n",
       "      <td>NaN</td>\n",
       "    </tr>\n",
       "    <tr>\n",
       "      <th>1</th>\n",
       "      <td>2</td>\n",
       "      <td>1</td>\n",
       "      <td>1</td>\n",
       "      <td>Cumings, Mrs. John Bradley (Florence Briggs Th...</td>\n",
       "      <td>female</td>\n",
       "      <td>38.0</td>\n",
       "      <td>1</td>\n",
       "      <td>0</td>\n",
       "      <td>PC 17599</td>\n",
       "      <td>71.2833</td>\n",
       "      <td>With</td>\n",
       "      <td>C</td>\n",
       "      <td>Mrs</td>\n",
       "      <td>C</td>\n",
       "    </tr>\n",
       "    <tr>\n",
       "      <th>2</th>\n",
       "      <td>3</td>\n",
       "      <td>1</td>\n",
       "      <td>3</td>\n",
       "      <td>Heikkinen, Miss. Laina</td>\n",
       "      <td>female</td>\n",
       "      <td>26.0</td>\n",
       "      <td>0</td>\n",
       "      <td>0</td>\n",
       "      <td>STON/O2. 3101282</td>\n",
       "      <td>7.9250</td>\n",
       "      <td>Without</td>\n",
       "      <td>S</td>\n",
       "      <td>Miss</td>\n",
       "      <td>NaN</td>\n",
       "    </tr>\n",
       "    <tr>\n",
       "      <th>3</th>\n",
       "      <td>4</td>\n",
       "      <td>1</td>\n",
       "      <td>1</td>\n",
       "      <td>Futrelle, Mrs. Jacques Heath (Lily May Peel)</td>\n",
       "      <td>female</td>\n",
       "      <td>35.0</td>\n",
       "      <td>1</td>\n",
       "      <td>0</td>\n",
       "      <td>113803</td>\n",
       "      <td>53.1000</td>\n",
       "      <td>With</td>\n",
       "      <td>S</td>\n",
       "      <td>Mrs</td>\n",
       "      <td>C</td>\n",
       "    </tr>\n",
       "    <tr>\n",
       "      <th>4</th>\n",
       "      <td>5</td>\n",
       "      <td>0</td>\n",
       "      <td>3</td>\n",
       "      <td>Allen, Mr. William Henry</td>\n",
       "      <td>male</td>\n",
       "      <td>35.0</td>\n",
       "      <td>0</td>\n",
       "      <td>0</td>\n",
       "      <td>373450</td>\n",
       "      <td>8.0500</td>\n",
       "      <td>Without</td>\n",
       "      <td>S</td>\n",
       "      <td>Mr</td>\n",
       "      <td>NaN</td>\n",
       "    </tr>\n",
       "  </tbody>\n",
       "</table>\n",
       "</div>"
      ],
      "text/plain": [
       "   PassengerId  Survived  Pclass  \\\n",
       "0            1         0       3   \n",
       "1            2         1       1   \n",
       "2            3         1       3   \n",
       "3            4         1       1   \n",
       "4            5         0       3   \n",
       "\n",
       "                                                Name     Sex   Age  SibSp  \\\n",
       "0                            Braund, Mr. Owen Harris    male  22.0      1   \n",
       "1  Cumings, Mrs. John Bradley (Florence Briggs Th...  female  38.0      1   \n",
       "2                             Heikkinen, Miss. Laina  female  26.0      0   \n",
       "3       Futrelle, Mrs. Jacques Heath (Lily May Peel)  female  35.0      1   \n",
       "4                           Allen, Mr. William Henry    male  35.0      0   \n",
       "\n",
       "   Parch            Ticket     Fare    Cabin Embarked Title Floor  \n",
       "0      0         A/5 21171   7.2500  Without        S    Mr   NaN  \n",
       "1      0          PC 17599  71.2833     With        C   Mrs     C  \n",
       "2      0  STON/O2. 3101282   7.9250  Without        S  Miss   NaN  \n",
       "3      0            113803  53.1000     With        S   Mrs     C  \n",
       "4      0            373450   8.0500  Without        S    Mr   NaN  "
      ]
     },
     "execution_count": 8,
     "metadata": {},
     "output_type": "execute_result"
    }
   ],
   "source": [
    "train['Floor'] = train.Cabin.str.slice(start=0, stop=1)\n",
    "train.loc[~train.Cabin.isnull(),'Cabin'] = 'With'\n",
    "train.Cabin.fillna('Without', inplace=True)\n",
    "train.head()"
   ]
  },
  {
   "cell_type": "code",
   "execution_count": 9,
   "metadata": {
    "scrolled": true
   },
   "outputs": [
    {
     "data": {
      "text/html": [
       "<div>\n",
       "<style scoped>\n",
       "    .dataframe tbody tr th:only-of-type {\n",
       "        vertical-align: middle;\n",
       "    }\n",
       "\n",
       "    .dataframe tbody tr th {\n",
       "        vertical-align: top;\n",
       "    }\n",
       "\n",
       "    .dataframe thead th {\n",
       "        text-align: right;\n",
       "    }\n",
       "</style>\n",
       "<table border=\"1\" class=\"dataframe\">\n",
       "  <thead>\n",
       "    <tr style=\"text-align: right;\">\n",
       "      <th></th>\n",
       "      <th>PassengerId</th>\n",
       "      <th>Survived</th>\n",
       "      <th>Pclass</th>\n",
       "      <th>Age</th>\n",
       "      <th>SibSp</th>\n",
       "      <th>Parch</th>\n",
       "      <th>Fare</th>\n",
       "    </tr>\n",
       "    <tr>\n",
       "      <th>Cabin</th>\n",
       "      <th></th>\n",
       "      <th></th>\n",
       "      <th></th>\n",
       "      <th></th>\n",
       "      <th></th>\n",
       "      <th></th>\n",
       "      <th></th>\n",
       "    </tr>\n",
       "  </thead>\n",
       "  <tbody>\n",
       "    <tr>\n",
       "      <th>With</th>\n",
       "      <td>455.401961</td>\n",
       "      <td>0.666667</td>\n",
       "      <td>1.196078</td>\n",
       "      <td>35.258349</td>\n",
       "      <td>0.441176</td>\n",
       "      <td>0.436275</td>\n",
       "      <td>76.141504</td>\n",
       "    </tr>\n",
       "    <tr>\n",
       "      <th>Without</th>\n",
       "      <td>443.208151</td>\n",
       "      <td>0.299854</td>\n",
       "      <td>2.639010</td>\n",
       "      <td>28.048341</td>\n",
       "      <td>0.547307</td>\n",
       "      <td>0.365357</td>\n",
       "      <td>19.157325</td>\n",
       "    </tr>\n",
       "  </tbody>\n",
       "</table>\n",
       "</div>"
      ],
      "text/plain": [
       "         PassengerId  Survived    Pclass        Age     SibSp     Parch  \\\n",
       "Cabin                                                                     \n",
       "With      455.401961  0.666667  1.196078  35.258349  0.441176  0.436275   \n",
       "Without   443.208151  0.299854  2.639010  28.048341  0.547307  0.365357   \n",
       "\n",
       "              Fare  \n",
       "Cabin               \n",
       "With     76.141504  \n",
       "Without  19.157325  "
      ]
     },
     "execution_count": 9,
     "metadata": {},
     "output_type": "execute_result"
    }
   ],
   "source": [
    "train.groupby(by = 'Cabin').mean()"
   ]
  },
  {
   "cell_type": "markdown",
   "metadata": {},
   "source": [
    "Passengers with cabin had better surviving chances than those who didn't have"
   ]
  },
  {
   "cell_type": "code",
   "execution_count": 10,
   "metadata": {
    "scrolled": true
   },
   "outputs": [],
   "source": [
    "# Codify the categorical var using dummies \n",
    "qualitative = ['Embarked', 'Title', 'Sex','Cabin', 'Pclass']\n",
    "train = pd.get_dummies(train, columns=qualitative).drop(columns= ['Ticket','Name', 'Floor']).set_index('PassengerId')\n",
    "\n",
    "# Turn our data standard using sklearn scaler\n",
    "independent = np.ravel(train.columns[train.columns!= 'Survived'])\n",
    "scaler = StandardScaler()\n",
    "\n",
    "X_std = scaler.fit_transform(train[independent]) # X standardized  "
   ]
  },
  {
   "cell_type": "code",
   "execution_count": 11,
   "metadata": {},
   "outputs": [
    {
     "name": "stdout",
     "output_type": "stream",
     "text": [
      "X_train: 712 <class 'numpy.ndarray'>     X_test: 179 <class 'numpy.ndarray'> \n",
      " y_train:  712 <class 'pandas.core.series.Series'>     y_test:  179 <class 'pandas.core.series.Series'>\n"
     ]
    }
   ],
   "source": [
    "X_train, X_test, y_train, y_test = train_test_split(X_std, train.Survived, test_size = 0.2, random_state = 42) \n",
    "\n",
    "print('X_train:',len(X_train),type(X_train),'    X_test:',len(X_test),type(X_test),'\\n','y_train: ',len(y_train),type(y_train),'    y_test: ',len(y_test), type(y_test))"
   ]
  },
  {
   "cell_type": "markdown",
   "metadata": {},
   "source": [
    "## What is the best feature subset? How can we optmize it? "
   ]
  },
  {
   "cell_type": "code",
   "execution_count": 12,
   "metadata": {
    "scrolled": false
   },
   "outputs": [
    {
     "name": "stdout",
     "output_type": "stream",
     "text": [
      "\\~ [4, 5, 8]\n",
      "['Age' 'SibSp' 'Parch' 'Fare' 'Embarked_C' 'Embarked_Q' 'Embarked_S'\n",
      " 'Title_Master' 'Title_Miss' 'Title_Mr' 'Title_Mrs' 'Sex_female'\n",
      " 'Sex_male' 'Cabin_With' 'Cabin_Without' 'Pclass_1' 'Pclass_2' 'Pclass_3']\n"
     ]
    }
   ],
   "source": [
    "logreg = LogisticRegression()\n",
    "\n",
    "logreg.fit(X_train, y_train) ## here comes the training \n",
    "\n",
    "selector = RFECV(logreg, step=1, cv=5)\n",
    "selector = selector.fit(X_train, y_train)\n",
    "print('\\~', np.ravel(np.ix_(~selector.support_)).tolist())\n",
    "print(independent)"
   ]
  },
  {
   "cell_type": "code",
   "execution_count": 13,
   "metadata": {},
   "outputs": [
    {
     "data": {
      "text/plain": [
       "0.8100558659217877"
      ]
     },
     "execution_count": 13,
     "metadata": {},
     "output_type": "execute_result"
    }
   ],
   "source": [
    "best_features = ['Age', 'SibSp', 'Parch', 'Fare','Embarked_S', 'Title_Mr', 'Title_Mrs', 'Title_Master', 'Cabin_With', \n",
    "       'Cabin_Without', 'Sex_female', 'Sex_male', 'Pclass_2', 'Pclass_3']\n",
    "\n",
    "X_train = pd.DataFrame(X_train, columns= independent)\n",
    "X_test = pd.DataFrame(X_test, columns= independent)\n",
    "\n",
    "X_train = np.array(X_train[best_features])\n",
    "X_test = np.array(X_test[best_features])\n",
    "\n",
    "logreg.fit(X_train, y_train)\n",
    "logreg.score(X_test, y_test)"
   ]
  },
  {
   "cell_type": "markdown",
   "metadata": {},
   "source": [
    "#### On Kaggle: 0.78229"
   ]
  },
  {
   "cell_type": "code",
   "execution_count": 14,
   "metadata": {},
   "outputs": [
    {
     "name": "stdout",
     "output_type": "stream",
     "text": [
      "[[56 18]\n",
      " [16 89]]\n"
     ]
    }
   ],
   "source": [
    "y_pred = logreg.predict(X_test)\n",
    "\n",
    "confusion_matrix = confusion_matrix(y_test, y_pred, labels = [1,0])\n",
    "print(confusion_matrix)"
   ]
  },
  {
   "cell_type": "code",
   "execution_count": 15,
   "metadata": {},
   "outputs": [
    {
     "name": "stdout",
     "output_type": "stream",
     "text": [
      "              precision    recall  f1-score   support\n",
      "\n",
      "           0       0.83      0.85      0.84       105\n",
      "           1       0.78      0.76      0.77        74\n",
      "\n",
      "    accuracy                           0.81       179\n",
      "   macro avg       0.80      0.80      0.80       179\n",
      "weighted avg       0.81      0.81      0.81       179\n",
      "\n"
     ]
    }
   ],
   "source": [
    "from sklearn.metrics import classification_report\n",
    "print(classification_report(y_test, y_pred))"
   ]
  },
  {
   "cell_type": "code",
   "execution_count": 16,
   "metadata": {
    "scrolled": true
   },
   "outputs": [
    {
     "data": {
      "image/png": "[encoded data removed]",
      "text/plain": [
       "<Figure size 432x288 with 1 Axes>"
      ]
     },
     "metadata": {
      "needs_background": "light"
     },
     "output_type": "display_data"
    }
   ],
   "source": [
    "logit_roc_auc = roc_auc_score(y_test, logreg.predict(X_test))\n",
    "fpr, tpr, thresholds = roc_curve(y_test, logreg.predict_proba(X_test)[:,1])\n",
    "plt.figure()\n",
    "plt.plot(fpr, tpr, label='LogReg (Area = %0.2f)' % logit_roc_auc)\n",
    "plt.plot([0, 1], [0, 1],'r--')\n",
    "plt.xlim([0.0, 1.0])\n",
    "plt.ylim([0.0, 1.05])\n",
    "plt.xlabel('False Positive Rate')\n",
    "plt.ylabel('True Positive Rate')\n",
    "plt.title('ROC curve')\n",
    "plt.legend(loc=\"lower right\")\n",
    "plt.savefig('Log_ROC')\n",
    "plt.show()"
   ]
  },
  {
   "cell_type": "markdown",
   "metadata": {},
   "source": [
    "## KNN"
   ]
  },
  {
   "cell_type": "code",
   "execution_count": 17,
   "metadata": {},
   "outputs": [
    {
     "name": "stdout",
     "output_type": "stream",
     "text": [
      "82.12290502793296\n"
     ]
    }
   ],
   "source": [
    "from sklearn import neighbors\n",
    "\n",
    "knn = neighbors.KNeighborsClassifier(n_neighbors = 3)\n",
    "knn.fit(X_train, y_train)\n",
    "y_pred = knn.predict(X_test)\n",
    "acc_knn = knn.score(X_test, y_test) * 100 # test\n",
    "print(acc_knn)\n",
    "#curva custo x temp , mesma com test "
   ]
  },
  {
   "cell_type": "code",
   "execution_count": 22,
   "metadata": {},
   "outputs": [],
   "source": [
    "X_std = pd.DataFrame(X_std, columns= [independent])\n",
    "knn.fit( X_std[best_features], train['Survived'])\n",
    "y_pred = to_kaggle(knn)\n",
    "y_pred[['PassengerId','Survived']].to_csv(path_or_buf= r'/home/pedro/titanic/titanic_project/knn', index=False)"
   ]
  },
  {
   "cell_type": "markdown",
   "metadata": {},
   "source": [
    "#### 0.727 on test at Kaggle "
   ]
  },
  {
   "cell_type": "markdown",
   "metadata": {},
   "source": [
    "## Random Forrest "
   ]
  },
  {
   "cell_type": "code",
   "execution_count": 23,
   "metadata": {},
   "outputs": [
    {
     "name": "stdout",
     "output_type": "stream",
     "text": [
      "0.8044692737430168\n"
     ]
    }
   ],
   "source": [
    "from sklearn.ensemble import RandomForestClassifier\n",
    "RF = RandomForestClassifier( max_depth=3, random_state=5)\n",
    "RF.fit(X_train, y_train)\n",
    "y_pred = RF.predict(X_test)\n",
    "\n",
    "print(RF.score(X_test, y_test))"
   ]
  },
  {
   "cell_type": "code",
   "execution_count": 24,
   "metadata": {},
   "outputs": [],
   "source": [
    "RF.fit( X_std[best_features], train['Survived'])\n",
    "y_pred = to_kaggle(RF)\n",
    "y_pred[['PassengerId','Survived']].to_csv(path_or_buf= r'/home/pedro/titanic/titanic_project/RF', index=False)"
   ]
  },
  {
   "cell_type": "markdown",
   "metadata": {},
   "source": [
    "#### 0.779 on kaggle "
   ]
  },
  {
   "cell_type": "markdown",
   "metadata": {},
   "source": [
    "## Random Forrest with grid Search"
   ]
  },
  {
   "cell_type": "code",
   "execution_count": 25,
   "metadata": {
    "scrolled": true
   },
   "outputs": [
    {
     "data": {
      "text/plain": [
       "GridSearchCV(cv=5,\n",
       "             estimator=RandomForestClassifier(max_depth=3, random_state=5),\n",
       "             param_grid={'max_depth': [2, 4, 6, 7, 8, 10],\n",
       "                         'n_estimators': [10, 50, 60, 70, 80, 100]},\n",
       "             return_train_score=True)"
      ]
     },
     "execution_count": 25,
     "metadata": {},
     "output_type": "execute_result"
    }
   ],
   "source": [
    "from sklearn.model_selection import GridSearchCV\n",
    "\n",
    "parameters = {'max_depth':[1, 10]}\n",
    "\n",
    "clf = GridSearchCV(RF, parameters)\n",
    "clf.fit(X_train, y_train)\n",
    "grid_search = GridSearchCV( estimator=RF,\n",
    "                            param_grid={'max_depth': [2,4,6,7,8,10], 'n_estimators': [10,50,60,70,80,100]}, \n",
    "                            cv=5, \n",
    "                            return_train_score=True)\n",
    "\n",
    "grid_search.fit(X_train , y_train)"
   ]
  },
  {
   "cell_type": "code",
   "execution_count": 26,
   "metadata": {
    "scrolled": true
   },
   "outputs": [
    {
     "data": {
      "text/plain": [
       "{'max_depth': 6, 'n_estimators': 100}"
      ]
     },
     "execution_count": 26,
     "metadata": {},
     "output_type": "execute_result"
    }
   ],
   "source": [
    "grid_search.best_params_ "
   ]
  },
  {
   "cell_type": "code",
   "execution_count": 27,
   "metadata": {},
   "outputs": [
    {
     "data": {
      "text/plain": [
       "RandomForestClassifier(max_depth=6, random_state=5)"
      ]
     },
     "execution_count": 27,
     "metadata": {},
     "output_type": "execute_result"
    }
   ],
   "source": [
    "grid_search.best_estimator_"
   ]
  },
  {
   "cell_type": "code",
   "execution_count": 28,
   "metadata": {
    "scrolled": true
   },
   "outputs": [
    {
     "name": "stdout",
     "output_type": "stream",
     "text": [
      "0.8019107652910471 {'max_depth': 2, 'n_estimators': 10}\n",
      "0.7976854131783708 {'max_depth': 2, 'n_estimators': 50}\n",
      "0.7948783610755441 {'max_depth': 2, 'n_estimators': 60}\n",
      "0.7934797596769427 {'max_depth': 2, 'n_estimators': 70}\n",
      "0.7948783610755441 {'max_depth': 2, 'n_estimators': 80}\n",
      "0.7934797596769427 {'max_depth': 2, 'n_estimators': 100}\n",
      "0.821589677927706 {'max_depth': 4, 'n_estimators': 10}\n",
      "0.8300009849305624 {'max_depth': 4, 'n_estimators': 50}\n",
      "0.8243770314192849 {'max_depth': 4, 'n_estimators': 60}\n",
      "0.828592534226337 {'max_depth': 4, 'n_estimators': 70}\n",
      "0.8257854821235103 {'max_depth': 4, 'n_estimators': 80}\n",
      "0.8286023835319611 {'max_depth': 4, 'n_estimators': 100}\n",
      "0.8244164286417807 {'max_depth': 6, 'n_estimators': 10}\n",
      "0.8300206835418102 {'max_depth': 6, 'n_estimators': 50}\n",
      "0.8314291342460356 {'max_depth': 6, 'n_estimators': 60}\n",
      "0.8314389835516597 {'max_depth': 6, 'n_estimators': 70}\n",
      "0.8300206835418102 {'max_depth': 6, 'n_estimators': 80}\n",
      "0.8342361863488623 {'max_depth': 6, 'n_estimators': 100}\n",
      "0.8201910765291046 {'max_depth': 7, 'n_estimators': 10}\n",
      "0.821619225844578 {'max_depth': 7, 'n_estimators': 50}\n",
      "0.8286516300600809 {'max_depth': 7, 'n_estimators': 60}\n",
      "0.8272333300502315 {'max_depth': 7, 'n_estimators': 70}\n",
      "0.8272234807446075 {'max_depth': 7, 'n_estimators': 80}\n",
      "0.8272136314389836 {'max_depth': 7, 'n_estimators': 100}\n",
      "0.8103417709051512 {'max_depth': 8, 'n_estimators': 10}\n",
      "0.8244065793361568 {'max_depth': 8, 'n_estimators': 50}\n",
      "0.8244164286417808 {'max_depth': 8, 'n_estimators': 60}\n",
      "0.8272136314389835 {'max_depth': 8, 'n_estimators': 70}\n",
      "0.8244164286417807 {'max_depth': 8, 'n_estimators': 80}\n",
      "0.828612232837585 {'max_depth': 8, 'n_estimators': 100}\n",
      "0.8159952723333005 {'max_depth': 10, 'n_estimators': 10}\n",
      "0.8258248793460062 {'max_depth': 10, 'n_estimators': 50}\n",
      "0.8272333300502315 {'max_depth': 10, 'n_estimators': 60}\n",
      "0.8202009258347287 {'max_depth': 10, 'n_estimators': 70}\n",
      "0.821609376538954 {'max_depth': 10, 'n_estimators': 80}\n",
      "0.8160149709445484 {'max_depth': 10, 'n_estimators': 100}\n"
     ]
    }
   ],
   "source": [
    "cvres = grid_search.cv_results_\n",
    "for mean_score, params in zip(cvres[\"mean_test_score\"], cvres[\"params\"]):\n",
    "    print(mean_score, params)"
   ]
  },
  {
   "cell_type": "code",
   "execution_count": 29,
   "metadata": {
    "scrolled": true
   },
   "outputs": [
    {
     "name": "stdout",
     "output_type": "stream",
     "text": [
      "0.8044692737430168\n"
     ]
    }
   ],
   "source": [
    "y_pred = RF.predict(X_test)\n",
    "print(RF.score(X_test,y_test))"
   ]
  },
  {
   "cell_type": "code",
   "execution_count": 30,
   "metadata": {},
   "outputs": [],
   "source": [
    "RF = RandomForestClassifier()\n",
    "RF.fit( X_std[best_features], train['Survived'])\n",
    "y_pred = to_kaggle(RF)\n",
    "y_pred[['PassengerId','Survived']].to_csv(path_or_buf= r'/home/pedro/titanic/titanic_project/RF_with_grid', index=False)"
   ]
  },
  {
   "cell_type": "markdown",
   "metadata": {},
   "source": [
    "#### On Kaggle 0.77033"
   ]
  },
  {
   "cell_type": "markdown",
   "metadata": {},
   "source": [
    "## Support Vector Machine "
   ]
  },
  {
   "cell_type": "code",
   "execution_count": 31,
   "metadata": {
    "scrolled": true
   },
   "outputs": [
    {
     "name": "stdout",
     "output_type": "stream",
     "text": [
      "0.8435754189944135\n"
     ]
    }
   ],
   "source": [
    "from sklearn import svm\n",
    "\n",
    "SVM = svm.SVC()\n",
    "SVM.fit(X_train, y_train)\n",
    "y_pred = SVM.predict(X_test)\n",
    "print(clf.score(X_test, y_test))\n",
    "\n",
    "SVM.fit( X_std[best_features], train['Survived'])\n",
    "y_pred = to_kaggle(clf)"
   ]
  },
  {
   "cell_type": "code",
   "execution_count": 32,
   "metadata": {},
   "outputs": [],
   "source": [
    "y_pred[['PassengerId','Survived']].to_csv(path_or_buf= r'/home/pedro/titanic/titanic_project/SVMfull', index=False)"
   ]
  },
  {
   "cell_type": "markdown",
   "metadata": {},
   "source": [
    "#### 0.74401 on Kaggle "
   ]
  },
  {
   "cell_type": "markdown",
   "metadata": {},
   "source": [
    "## To Kaggle\n"
   ]
  },
  {
   "cell_type": "code",
   "execution_count": 20,
   "metadata": {},
   "outputs": [],
   "source": [
    "def to_kaggle (method):\n",
    "    '''This funcition has as input the method to which should be used to make predictions \n",
    "        and returns the data frame to submit on kaggle\n",
    "    '''\n",
    "    test = pd.read_csv('test.csv')\n",
    "    Id = test.PassengerId\n",
    "    titles = test['Name'].str.extract(pat = '([,].{1,13}[.])') #select titles \n",
    "    titles.rename(columns = {0:'Name'},inplace=True) # rename titles df \n",
    "    test['Title']= titles.Name.str.slice(start=2, stop=-1) # takes only the title \n",
    "    test.Title = test.apply(replace_titles, axis=1)\n",
    "\n",
    "    test.loc[~test.Cabin.isnull(),'Cabin'] = 'With'\n",
    "    test.Cabin.fillna('Without', inplace=True)\n",
    "\n",
    "    cols=['Pclass','Sex','Age','SibSp','Parch','Fare','Cabin','Embarked','Title'] \n",
    "    X_kaggle = pd.DataFrame(data = test[cols], columns = cols)\n",
    "\n",
    "    X_kaggle = pd.get_dummies(X_kaggle, columns=['Embarked','Title', 'Cabin', 'Sex', 'Pclass'])#  rodar com as dummies\n",
    "    X_kaggle.fillna({\"Age\": X_kaggle.Age.median(), \"Fare\": X_kaggle.Fare.median()}, inplace = True)\n",
    "\n",
    "    X_kaggle[best_features] = scaler.fit_transform(X_kaggle[best_features])\n",
    "\n",
    "    X_kaggle = np.array(X_kaggle[best_features])\n",
    "\n",
    "    y_pred = pd.DataFrame( data = method.predict(X_kaggle),columns = ['Survived'])\n",
    "    y_pred['PassengerId'] = Id\n",
    "    \n",
    "    return y_pred"
   ]
  },
  {
   "cell_type": "code",
   "execution_count": null,
   "metadata": {},
   "outputs": [],
   "source": []
  }
 ],
 "metadata": {
  "kernelspec": {
   "display_name": "Python 3",
   "language": "python",
   "name": "python3"
  },
  "language_info": {
   "codemirror_mode": {
    "name": "ipython",
    "version": 3
   },
   "file_extension": ".py",
   "mimetype": "text/x-python",
   "name": "python",
   "nbconvert_exporter": "python",
   "pygments_lexer": "ipython3",
   "version": "3.7.3"
  }
 },
 "nbformat": 4,
 "nbformat_minor": 2
}
